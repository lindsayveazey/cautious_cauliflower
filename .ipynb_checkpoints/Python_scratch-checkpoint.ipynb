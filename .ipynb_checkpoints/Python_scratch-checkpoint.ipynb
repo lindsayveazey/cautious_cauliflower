{
 "cells": [
  {
   "cell_type": "markdown",
   "metadata": {},
   "source": [
    "#### A consolidation of old and new notes, plus whatever else I think is presently useful"
   ]
  },
  {
   "cell_type": "markdown",
   "metadata": {},
   "source": [
    "##### Functions, strings, exceptions"
   ]
  },
  {
   "cell_type": "code",
   "execution_count": 5,
   "metadata": {},
   "outputs": [
    {
     "data": {
      "text/plain": [
       "20"
      ]
     },
     "execution_count": 5,
     "metadata": {},
     "output_type": "execute_result"
    }
   ],
   "source": [
    "def quadruple(x):\n",
    "    \"\"\"Here, I describe the function of, well, the function...\n",
    "    With this simple function, I multiply x by 4.\"\"\"\n",
    "    return x * 4\n",
    "\n",
    "x = 5\n",
    "quadruple(x)"
   ]
  },
  {
   "cell_type": "code",
   "execution_count": 15,
   "metadata": {},
   "outputs": [
    {
     "name": "stdout",
     "output_type": "stream",
     "text": [
      "Cannot divide by zero.\n"
     ]
    }
   ],
   "source": [
    "try:\n",
    "    print(0/0)\n",
    "except ZeroDivisionError:\n",
    "    print(\"Cannot divide by zero.\")"
   ]
  },
  {
   "cell_type": "markdown",
   "metadata": {},
   "source": [
    "##### Lists, tuples, dictionaries\n",
    "\n",
    "**Lists**: ordered collections. []\n",
    "\n",
    "**Tuples**: the immutable cousins of lists. () or \n",
    "\n",
    "**Dictionaries**: associates values with keys. {}"
   ]
  },
  {
   "cell_type": "code",
   "execution_count": 27,
   "metadata": {},
   "outputs": [
    {
     "name": "stdout",
     "output_type": "stream",
     "text": [
      "[2, 4, 6] [10, 12, 14] [16, 18, 20]\n"
     ]
    }
   ],
   "source": [
    "my_list = [2, 4, 6, 8, 10, 12, 14, 16, 18, 20]\n",
    "first_three = my_list[:3]\n",
    "eight_to_end = my_list[7:] # prints from 16\n",
    "middle_slice = my_list[4:7] # prints from 10 to 14- stops before last element \n",
    "print(first_three, middle_slice, eight_to_end)"
   ]
  },
  {
   "cell_type": "code",
   "execution_count": 31,
   "metadata": {},
   "outputs": [
    {
     "name": "stdout",
     "output_type": "stream",
     "text": [
      "(22, 1858, 1967) ((1990, 2019), (7, 7))\n"
     ]
    },
    {
     "data": {
      "text/plain": [
       "2"
      ]
     },
     "execution_count": 31,
     "metadata": {},
     "output_type": "execute_result"
    }
   ],
   "source": [
    "my_tuple = 22, 1858, 1967\n",
    "my_tuple_duo = (1990, 2019), (7, 7)\n",
    "\n",
    "print(my_tuple, my_tuple_duo)\n",
    "len(my_tuple_duo)"
   ]
  },
  {
   "cell_type": "code",
   "execution_count": 41,
   "metadata": {},
   "outputs": [
    {
     "name": "stdout",
     "output_type": "stream",
     "text": [
      "5\n",
      "4\n",
      "False\n"
     ]
    }
   ],
   "source": [
    "fruit_dictionary = {\"Apple\": 5,\n",
    "                   \"Pear\": 4,\n",
    "                   \"Lemon\": 5}\n",
    "\n",
    "# The lookup key is in quotes:\n",
    "print(fruit_dictionary[\"Apple\"])\n",
    "print(fruit_dictionary[\"Pear\"])\n",
    "\n",
    "# Check the existence of the pineapple key\n",
    "pineapple_key = \"Pineapple\" in fruit_dictionary\n",
    "print(pineapple_key)"
   ]
  },
  {
   "cell_type": "markdown",
   "metadata": {},
   "source": [
    "##### Counter\n",
    "\n",
    "The counter turns a sequence of values into keys for counting. This is particularly handy for word_counts problems or histogram creation."
   ]
  },
  {
   "cell_type": "code",
   "execution_count": 47,
   "metadata": {},
   "outputs": [
    {
     "name": "stdout",
     "output_type": "stream",
     "text": [
      "Counter({0: 4, 7: 1, 22: 1, 89: 1, 90: 1, 6: 1})\n"
     ]
    },
    {
     "data": {
      "text/plain": [
       "'\\nword_counts = Counter(document)\\n\\nfor word, count in word_counts.most_common(10):\\n    print(word, count)\\n'"
      ]
     },
     "execution_count": 47,
     "metadata": {},
     "output_type": "execute_result"
    }
   ],
   "source": [
    "from collections import Counter\n",
    "c = Counter([0, 7, 22, 0, 89, 90, 6, 0, 0])\n",
    "print(c)\n",
    "\n",
    "# To solve word_counts problems:\n",
    "\n",
    "\"\"\"\n",
    "word_counts = Counter(document)\n",
    "\n",
    "for word, count in word_counts.most_common(10):\n",
    "    print(word, count)\n",
    "\"\"\""
   ]
  },
  {
   "cell_type": "markdown",
   "metadata": {},
   "source": [
    "##### Control flow"
   ]
  },
  {
   "cell_type": "code",
   "execution_count": 66,
   "metadata": {},
   "outputs": [
    {
     "name": "stdout",
     "output_type": "stream",
     "text": [
      "Ah, there we go.\n",
      "2 is less than 6.\n",
      "3 is less than 6.\n",
      "0\n",
      "1\n",
      "2\n",
      "4\n",
      "5\n",
      "6\n"
     ]
    }
   ],
   "source": [
    "# Iterative conditionals:\n",
    "if 1 > 2:\n",
    "    print(\"If only 1 were greater than 2...\")\n",
    "elif 1 > 3:\n",
    "    print(\"This is not realistic...\")\n",
    "elif 1 > 0:\n",
    "    print(\"Ah, there we go.\")\n",
    "    \n",
    "    \n",
    "# While:\n",
    "x = 2\n",
    "while x < 4:\n",
    "    print (x, \"is less than 6.\")\n",
    "    x +=1\n",
    "\n",
    "# Continue/break:\n",
    "for x in range(10):\n",
    "    if x == 3:\n",
    "        continue\n",
    "    if x == 7:\n",
    "        break\n",
    "    print(x) # prints numbers 0 through 6, skipping 3 and halting at 7.\n",
    "        "
   ]
  },
  {
   "cell_type": "markdown",
   "metadata": {},
   "source": [
    "##### Sorting"
   ]
  },
  {
   "cell_type": "code",
   "execution_count": 69,
   "metadata": {},
   "outputs": [
    {
     "name": "stdout",
     "output_type": "stream",
     "text": [
      "[0, 1, 2, 3, 4, 5] [5, 4, 3, 2, 1, 0]\n"
     ]
    }
   ],
   "source": [
    "x = [0, 5, 2, 4, 3, 1]\n",
    "y = sorted(x, reverse = True)\n",
    "x.sort()\n",
    "print(x, y)"
   ]
  },
  {
   "cell_type": "markdown",
   "metadata": {},
   "source": [
    "##### Randomness"
   ]
  },
  {
   "cell_type": "code",
   "execution_count": 80,
   "metadata": {},
   "outputs": [
    {
     "name": "stdout",
     "output_type": "stream",
     "text": [
      "[0.16908361566044372, 0.8089620446393668, 0.8538343854854736]\n",
      "Nigeria\n"
     ]
    }
   ],
   "source": [
    "import random\n",
    "two_random_numbers = [random.random() for _ in range(2)]\n",
    "three_random_numbers = [random.random() for _ in range(3)]\n",
    "four_random_numbers = [random.random() for _ in range(4)]\n",
    "five_random_numbers = [random.random() for _ in range(5)]\n",
    "\n",
    "random.seed(2)\n",
    "print(three_random_numbers)\n",
    "\n",
    "pick_a_country = random.choice([\"Nigeria\", \"Albania\", \"China\"])\n",
    "print(pick_a_country)"
   ]
  },
  {
   "cell_type": "markdown",
   "metadata": {},
   "source": [
    "##### Enumerate"
   ]
  },
  {
   "cell_type": "code",
   "execution_count": 81,
   "metadata": {},
   "outputs": [
    {
     "data": {
      "text/plain": [
       "'\\nfor i, _ in enumerate(documents): do_something(i)\\n'"
      ]
     },
     "execution_count": 81,
     "metadata": {},
     "output_type": "execute_result"
    }
   ],
   "source": [
    "# This is a template for a common utility to iterate over a list:\n",
    "\n",
    "\"\"\"\n",
    "for i, _ in enumerate(documents): do_something(i)\n",
    "\"\"\""
   ]
  }
 ],
 "metadata": {
  "kernelspec": {
   "display_name": "Python 3",
   "language": "python",
   "name": "python3"
  },
  "language_info": {
   "codemirror_mode": {
    "name": "ipython",
    "version": 3
   },
   "file_extension": ".py",
   "mimetype": "text/x-python",
   "name": "python",
   "nbconvert_exporter": "python",
   "pygments_lexer": "ipython3",
   "version": "3.6.9"
  }
 },
 "nbformat": 4,
 "nbformat_minor": 2
}
