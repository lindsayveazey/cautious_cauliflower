{
 "cells": [
  {
   "cell_type": "markdown",
   "metadata": {},
   "source": [
    "### Baking pie\n",
    "\n",
    "*A side project in which I clean data and bake a pie (chart). And a bar chart.*"
   ]
  },
  {
   "cell_type": "markdown",
   "metadata": {},
   "source": [
    "#### Data cleaning"
   ]
  },
  {
   "cell_type": "code",
   "execution_count": null,
   "metadata": {},
   "outputs": [],
   "source": [
    "import pandas\n",
    "import numpy\n",
    "\n",
    "data = pandas.read_csv('/home/lindsay/Downloads/softwareInventory.csv', encoding='latin1')\n",
    "data.head(10)\n",
    "data.columns\n",
    "\n",
    "data.columns = ['ID', 'Device', 'Matched', 'Installation', 'Pathway', 'Application', 'Version']\n",
    "\n",
    "# We don't need the 'Unnamed: 1' column (renamed 'Matched') that contains \"matched\" in every row- drop it:\n",
    "data = data.drop(['Matched'], axis=1)\n",
    "data.columns\n",
    "\n",
    "# Identify missing data\n",
    "empty = data.apply(lambda col: pandas.isnull(col))\n",
    "empty.head(10)\n",
    "\n",
    "#       ID  Device  Installation  Pathway  Application  Version\n",
    "# 0   True    True          True     True         True     True\n",
    "# 1  False   False         False     True        False    False\n",
    "# 2   True    True          True     True         True     True\n",
    "\n",
    "# Above, we see that the empty rows inherently encoded in the CSV are boolean True for pandas.isnull\n",
    "# Let's drop all rows where Application is marked True- we know these are empty rows\n",
    "\n",
    "data = data.dropna(subset=['Application'])\n",
    "\n",
    "# Make a list of applications, then coerce to list of unique values\n",
    "app_list = data['Application'].values\n",
    "unique_app_list = numpy.unique(app_list)\n",
    "# Oh...there are500+ elements here...best to bin by string occurrences by software\n",
    "\n",
    "# Microsoft: 'Microsoft' 'Win', 'Windows' 'Visual Studio' 'vs_' 'VS' 'Office' 'SQL' 'sql'\n",
    "# Oracle: 'Adobe' 'Java'\n",
    "# Apple: 'Apple'\n",
    "# Autodesk: 'Autodesk'\n",
    "# CheckPoint: 'Check Point'\n",
    "# Dell: 'Dell'\n",
    "# Intel: 'Intel'\n",
    "# Other\n",
    "\n",
    "data['Software'] = numpy.where(data.Application.str.contains(\"Microsoft\"), \"Microsoft\",\n",
    "                   numpy.where(data.Application.str.contains(\"Win\"), \"Microsoft\",\n",
    "                   numpy.where(data.Application.str.contains(\"Windows\"), \"Microsoft\",\n",
    "                   numpy.where(data.Application.str.contains(\"Visual Studio\"), \"Microsoft\",\n",
    "                   numpy.where(data.Application.str.contains(\"vs_\"), \"Microsoft\",\n",
    "                   numpy.where(data.Application.str.contains(\"VS\"), \"Microsoft\",\n",
    "                   numpy.where(data.Application.str.contains(\"Office\"), \"Microsoft\",\n",
    "                   numpy.where(data.Application.str.contains(\"SQL\"), \"Microsoft\",\n",
    "                   numpy.where(data.Application.str.contains(\"sql\"), \"Microsoft\",\n",
    "                   numpy.where(data.Application.str.contains(\"Adobe\"), \"Oracle\",\n",
    "                   numpy.where(data.Application.str.contains(\"Java\"), \"Oracle\",\n",
    "                   numpy.where(data.Application.str.contains(\"Apple\"), \"Apple\",\n",
    "                   numpy.where(data.Application.str.contains(\"Autodesk\"), \"Autodesk\",\n",
    "                   numpy.where(data.Application.str.contains(\"Check Point\"), \"CheckPoint\",\n",
    "                   numpy.where(data.Application.str.contains(\"Dell\"), \"Dell\",\n",
    "                   numpy.where(data.Application.str.contains(\"Intel\"), \"Intel\", \"Other\"))))))))))))))))\n",
    "\n",
    "software_list = data['Software'].values\n",
    "unique_software_list = numpy.unique(software_list, return_counts = True) # Looks reasonable\n",
    "\n",
    "# Save dataframe to CSV\n",
    "# data.to_csv(r'/path/filename.csv')"
   ]
  },
  {
   "cell_type": "markdown",
   "metadata": {},
   "source": [
    "#### Creating a pie chart..."
   ]
  },
  {
   "cell_type": "code",
   "execution_count": 10,
   "metadata": {},
   "outputs": [],
   "source": [
    "# data.head(10)"
   ]
  },
  {
   "cell_type": "code",
   "execution_count": 9,
   "metadata": {},
   "outputs": [
    {
     "data": {
      "text/plain": [
       "'\\nfrom collections import Counter\\nCounter(data.Software)\\n'"
      ]
     },
     "execution_count": 9,
     "metadata": {},
     "output_type": "execute_result"
    }
   ],
   "source": [
    "# Count occurrences of each Software type\n",
    "'''\n",
    "from collections import Counter\n",
    "Counter(data.Software)\n",
    "'''"
   ]
  },
  {
   "cell_type": "code",
   "execution_count": 11,
   "metadata": {},
   "outputs": [
    {
     "data": {
      "text/plain": [
       "\"\\nimport plotly.graph_objects as go\\ncolors = ['rgb(56, 75, 126)','rgb(18, 36, 37)','rgb(34, 53, 101)',\\n          'rgb(36, 55, 57)','rgb(175, 51, 21)','rgb(206, 206, 40)',\\n          'rgb(175, 51, 21)','rgb(35, 36, 21)']\\nvalues = [1232,193,51,44,43,17,3,521]\\nlabels=['Microsoft','Intel','Autodesk','Oracle','Dell','Check Point','Apple','Other']\\n\\nfig = go.Figure(data=[go.Pie(labels=labels,values=values)])\\nfig.update_traces(hoverinfo='label+percent', textinfo='value', textfont_size=20,\\n                  marker=dict(colors=colors, line=dict(color='#000000', width=2)))\\nfig.update_layout(title_text='Counts of software installations across all machines')\\nfig.show()\\n\""
      ]
     },
     "execution_count": 11,
     "metadata": {},
     "output_type": "execute_result"
    }
   ],
   "source": [
    "# Create a pie chart\n",
    "'''\n",
    "import plotly.graph_objects as go\n",
    "colors = ['rgb(56, 75, 126)','rgb(18, 36, 37)','rgb(34, 53, 101)',\n",
    "          'rgb(36, 55, 57)','rgb(175, 51, 21)','rgb(206, 206, 40)',\n",
    "          'rgb(175, 51, 21)','rgb(35, 36, 21)']\n",
    "values = [1232,193,51,44,43,17,3,521]\n",
    "labels=['Microsoft','Intel','Autodesk','Oracle','Dell','Check Point','Apple','Other']\n",
    "\n",
    "fig = go.Figure(data=[go.Pie(labels=labels,values=values)])\n",
    "fig.update_traces(hoverinfo='label+percent', textinfo='value', textfont_size=20,\n",
    "                  marker=dict(colors=colors, line=dict(color='#000000', width=2)))\n",
    "fig.update_layout(title_text='Counts of software installations across all machines')\n",
    "fig.show()\n",
    "'''"
   ]
  },
  {
   "cell_type": "code",
   "execution_count": 6,
   "metadata": {},
   "outputs": [],
   "source": [
    "# Count the number of devices\n",
    "# Counter(data.Device)"
   ]
  },
  {
   "cell_type": "code",
   "execution_count": 5,
   "metadata": {},
   "outputs": [
    {
     "data": {
      "text/plain": [
       "'\\nimport plotly.express as px\\n\\nfig = px.bar(data, x=\\'Software\\', y=\\'Software\\', color=\\'Device\\', orientation=\\'h\\',\\n             hover_data=[\"Software\", \"Version\"],\\n             height=800,\\n             title=\\'Software installations per device (hover for versions)\\')\\nfig.show()\\n'"
      ]
     },
     "execution_count": 5,
     "metadata": {},
     "output_type": "execute_result"
    }
   ],
   "source": [
    "# These lines create an interactive stacked bar chart. Commented out for upload ease.\n",
    "'''\n",
    "import plotly.express as px\n",
    "\n",
    "fig = px.bar(data, x='Software', y='Software', color='Device', orientation='h',\n",
    "             hover_data=[\"Software\", \"Version\"],\n",
    "             height=800,\n",
    "             title='Software installations per device (hover for versions)')\n",
    "fig.show()\n",
    "'''\n"
   ]
  }
 ],
 "metadata": {
  "kernelspec": {
   "display_name": "Python 3",
   "language": "python",
   "name": "python3"
  },
  "language_info": {
   "codemirror_mode": {
    "name": "ipython",
    "version": 3
   },
   "file_extension": ".py",
   "mimetype": "text/x-python",
   "name": "python",
   "nbconvert_exporter": "python",
   "pygments_lexer": "ipython3",
   "version": "3.6.8"
  }
 },
 "nbformat": 4,
 "nbformat_minor": 2
}
