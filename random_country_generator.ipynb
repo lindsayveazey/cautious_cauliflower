{
 "cells": [
  {
   "cell_type": "markdown",
   "metadata": {},
   "source": [
    "### Random country generator\n",
    "\n",
    "*A mini project to extract a random entry from a complete list of countries solely to explore the cuisine of said country and subsequently create more interesting dinners, is the hope.*"
   ]
  },
  {
   "cell_type": "code",
   "execution_count": 46,
   "metadata": {},
   "outputs": [
    {
     "name": "stdout",
     "output_type": "stream",
     "text": [
      "255\n",
      "('ZA', 'South Africa') 254\n"
     ]
    }
   ],
   "source": [
    "# Obtain country names\n",
    "import country_list\n",
    "from country_list import countries_for_language\n",
    "\n",
    "# Convert to list object in English\n",
    "countries = list(countries_for_language('en')) \n",
    "import random\n",
    "\n",
    "# Shuffle the list\n",
    "random.seed(6)\n",
    "random.shuffle(countries)\n",
    "\n",
    "# Extract an element without replacement\n",
    "def country_picker(x):\n",
    "    print(len(countries))\n",
    "    x = countries.pop()\n",
    "    print(x, len(countries))\n",
    "    \n",
    "country_picker(x)"
   ]
  },
  {
   "cell_type": "code",
   "execution_count": 47,
   "metadata": {},
   "outputs": [
    {
     "name": "stdout",
     "output_type": "stream",
     "text": [
      "254\n",
      "('MD', 'Moldova') 253\n"
     ]
    }
   ],
   "source": [
    "country_picker(x) # Splendid"
   ]
  }
 ],
 "metadata": {
  "kernelspec": {
   "display_name": "Python 3",
   "language": "python",
   "name": "python3"
  },
  "language_info": {
   "codemirror_mode": {
    "name": "ipython",
    "version": 3
   },
   "file_extension": ".py",
   "mimetype": "text/x-python",
   "name": "python",
   "nbconvert_exporter": "python",
   "pygments_lexer": "ipython3",
   "version": "3.6.8"
  }
 },
 "nbformat": 4,
 "nbformat_minor": 2
}
