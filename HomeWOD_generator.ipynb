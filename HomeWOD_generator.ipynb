{
 "cells": [
  {
   "cell_type": "markdown",
   "metadata": {},
   "source": [
    "#### Import modules"
   ]
  },
  {
   "cell_type": "code",
   "execution_count": 1,
   "metadata": {},
   "outputs": [],
   "source": [
    "import pandas as pd\n",
    "import numpy as np"
   ]
  },
  {
   "cell_type": "markdown",
   "metadata": {},
   "source": [
    "#### Load, inspect CSV"
   ]
  },
  {
   "cell_type": "code",
   "execution_count": 86,
   "metadata": {},
   "outputs": [
    {
     "name": "stdout",
     "output_type": "stream",
     "text": [
      "/home/lindsay\n"
     ]
    }
   ],
   "source": [
    "%cd '/home/lindsay/'\n",
    "WOD = pd.read_csv('HomeWODs.csv')"
   ]
  },
  {
   "cell_type": "code",
   "execution_count": 72,
   "metadata": {},
   "outputs": [],
   "source": [
    "#WOD.head()"
   ]
  },
  {
   "cell_type": "markdown",
   "metadata": {},
   "source": [
    "Simple function to randomly select a set of exercises based on the key, which indicates lower body (no DB = LN, DB = LW), upper body (UN, UW), or cardio (C). \n",
    "\n",
    "Generally, my day splits will go...\n",
    "\n",
    "2 LN, 3 LW, 2 C + 1 LN + 1 LW\n",
    "\n",
    "2 UN, 3 UW, 2 C + 1 UN + 1 UW"
   ]
  },
  {
   "cell_type": "code",
   "execution_count": 88,
   "metadata": {},
   "outputs": [],
   "source": [
    "WOD=WOD.set_index('Key') # set key as index"
   ]
  },
  {
   "cell_type": "code",
   "execution_count": 97,
   "metadata": {},
   "outputs": [
    {
     "ename": "SyntaxError",
     "evalue": "invalid syntax (<ipython-input-97-f88cb678dad7>, line 7)",
     "output_type": "error",
     "traceback": [
      "\u001b[0;36m  File \u001b[0;32m\"<ipython-input-97-f88cb678dad7>\"\u001b[0;36m, line \u001b[0;32m7\u001b[0m\n\u001b[0;31m    return LN.sample(2), return LW.sample(3)\u001b[0m\n\u001b[0m                              ^\u001b[0m\n\u001b[0;31mSyntaxError\u001b[0m\u001b[0;31m:\u001b[0m invalid syntax\n"
     ]
    }
   ],
   "source": [
    "def lower_split():\n",
    "    strength_list=[]\n",
    "    metcon_list=[]\n",
    "    \n",
    "    LN=WOD.loc['LN']\n",
    "    LW=WOD.loc['LW']\n",
    "    return LN.sample(2), LW.sample(3)\n",
    "    C=WOD.loc['C']\n",
    "    metcon_list.append(LN.sample(1))\n",
    "    metcon_list.append(LW.sample(1))\n",
    "    metcon_list.append(C.sample(2))"
   ]
  },
  {
   "cell_type": "code",
   "execution_count": 100,
   "metadata": {},
   "outputs": [
    {
     "data": {
      "text/html": [
       "<div>\n",
       "<style scoped>\n",
       "    .dataframe tbody tr th:only-of-type {\n",
       "        vertical-align: middle;\n",
       "    }\n",
       "\n",
       "    .dataframe tbody tr th {\n",
       "        vertical-align: top;\n",
       "    }\n",
       "\n",
       "    .dataframe thead th {\n",
       "        text-align: right;\n",
       "    }\n",
       "</style>\n",
       "<table border=\"1\" class=\"dataframe\">\n",
       "  <thead>\n",
       "    <tr style=\"text-align: right;\">\n",
       "      <th></th>\n",
       "      <th>Exercise</th>\n",
       "      <th>Target</th>\n",
       "      <th>DB</th>\n",
       "      <th>Freq</th>\n",
       "    </tr>\n",
       "    <tr>\n",
       "      <th>Key</th>\n",
       "      <th></th>\n",
       "      <th></th>\n",
       "      <th></th>\n",
       "      <th></th>\n",
       "    </tr>\n",
       "  </thead>\n",
       "  <tbody>\n",
       "    <tr>\n",
       "      <th>LN</th>\n",
       "      <td>Single leg elevated hip thrust (heel on couch ...</td>\n",
       "      <td>Hams, glutes</td>\n",
       "      <td>0</td>\n",
       "      <td>3x15 each leg</td>\n",
       "    </tr>\n",
       "    <tr>\n",
       "      <th>LN</th>\n",
       "      <td>Reverse hyperextension (use chaise or ottoman)</td>\n",
       "      <td>Hams, glutes</td>\n",
       "      <td>0</td>\n",
       "      <td>4x15</td>\n",
       "    </tr>\n",
       "  </tbody>\n",
       "</table>\n",
       "</div>"
      ],
      "text/plain": [
       "                                              Exercise        Target DB  \\\n",
       "Key                                                                       \n",
       "LN   Single leg elevated hip thrust (heel on couch ...  Hams, glutes  0   \n",
       "LN      Reverse hyperextension (use chaise or ottoman)  Hams, glutes  0   \n",
       "\n",
       "              Freq  \n",
       "Key                 \n",
       "LN   3x15 each leg  \n",
       "LN            4x15  "
      ]
     },
     "execution_count": 100,
     "metadata": {},
     "output_type": "execute_result"
    }
   ],
   "source": [
    "(WOD.loc['LW'].sample(2))\n",
    "(WOD.loc['LN'].sample(2))"
   ]
  }
 ],
 "metadata": {
  "kernelspec": {
   "display_name": "Python 3",
   "language": "python",
   "name": "python3"
  },
  "language_info": {
   "codemirror_mode": {
    "name": "ipython",
    "version": 3
   },
   "file_extension": ".py",
   "mimetype": "text/x-python",
   "name": "python",
   "nbconvert_exporter": "python",
   "pygments_lexer": "ipython3",
   "version": "3.6.9"
  }
 },
 "nbformat": 4,
 "nbformat_minor": 2
}
